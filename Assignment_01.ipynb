{
 "cells": [
  {
   "cell_type": "markdown",
   "id": "59cbbee2",
   "metadata": {},
   "source": [
    "Q1. Explain with an example each when to use a for loop and a while loop."
   ]
  },
  {
   "cell_type": "markdown",
   "id": "d855e571",
   "metadata": {},
   "source": [
    "Ans : We use the for loop to run a block of code a specified number of times by evaluating a condition as true or false. \n",
    "      For loop is mainly use when we already aware about the number of iteration we have to perform on the given condition \n",
    "      and can also check the gap between each iteration.\n",
    "    \n",
    "      In Python we can use the \"else\" block with the for loop.\n",
    "      The else block will only execute when the for loop is executed completely.If in any sitution if for loop is intrupted\n",
    "      then else block will not execute."
   ]
  },
  {
   "cell_type": "markdown",
   "id": "32a4ab15",
   "metadata": {},
   "source": [
    "Example of simple for loop"
   ]
  },
  {
   "cell_type": "code",
   "execution_count": 1,
   "id": "c91bd5a0",
   "metadata": {},
   "outputs": [
    {
     "name": "stdout",
     "output_type": "stream",
     "text": [
      "12\n",
      "34\n",
      "56\n",
      "78\n",
      "90\n"
     ]
    }
   ],
   "source": [
    "list = [12,23,34,45,56,65,67,78,89,90]\n",
    "for i in list:\n",
    "    if i%2 == 0:\n",
    "        print(i)"
   ]
  },
  {
   "cell_type": "markdown",
   "id": "f1d1aaa4",
   "metadata": {},
   "source": [
    "Example of \"for\" loop with \"else\" block"
   ]
  },
  {
   "cell_type": "code",
   "execution_count": 2,
   "id": "a2bb512c",
   "metadata": {},
   "outputs": [
    {
     "name": "stdout",
     "output_type": "stream",
     "text": [
      "0\n",
      "1\n",
      "2\n",
      "3\n",
      "4\n",
      "5\n",
      "6\n",
      "7\n"
     ]
    }
   ],
   "source": [
    "for i in range(10):\n",
    "    if i== 8:\n",
    "        break\n",
    "    print(i)\n",
    "else:\n",
    "    print(\"here else block will not execute\")"
   ]
  },
  {
   "cell_type": "code",
   "execution_count": 3,
   "id": "62c7824b",
   "metadata": {},
   "outputs": [
    {
     "name": "stdout",
     "output_type": "stream",
     "text": [
      "0\n",
      "1\n",
      "2\n",
      "3\n",
      "4\n",
      "5\n",
      "6\n",
      "7\n",
      "9\n",
      "here else block will run smoothly\n"
     ]
    }
   ],
   "source": [
    "for i in range(10):\n",
    "    if i== 8:\n",
    "        continue\n",
    "    print(i)\n",
    "else:\n",
    "    print(\"here else block will run smoothly\")"
   ]
  },
  {
   "cell_type": "markdown",
   "id": "000da8ec",
   "metadata": {},
   "source": [
    "WHILE LOOP"
   ]
  },
  {
   "cell_type": "markdown",
   "id": "5f60fe07",
   "metadata": {},
   "source": [
    "We use the the while loop when the centain condition to execute some task if the condition gets satisfies all the times\n",
    "our loop will get execute and the task will perform and if the condition is not satisfies then it come out of the loop.\n",
    "Boolean condition of the loop never gets set to False, then it will run forever."
   ]
  },
  {
   "cell_type": "code",
   "execution_count": 4,
   "id": "69d00709",
   "metadata": {},
   "outputs": [
    {
     "name": "stdout",
     "output_type": "stream",
     "text": [
      "1\n",
      "2\n",
      "3\n",
      "4\n",
      "5\n"
     ]
    }
   ],
   "source": [
    "# example\n",
    "# initialize the variable\n",
    "i = 1\n",
    "n = 5\n",
    "\n",
    "# while loop from i = 1 to 5\n",
    "while i <= n:\n",
    "    print(i)\n",
    "    i = i + 1"
   ]
  },
  {
   "cell_type": "markdown",
   "id": "676b3c46",
   "metadata": {},
   "source": [
    "Q2. Write a python program to print the sum and product of the first 10 natural numbers using for\n",
    "and while loop."
   ]
  },
  {
   "cell_type": "code",
   "execution_count": 5,
   "id": "89ec961e",
   "metadata": {},
   "outputs": [
    {
     "name": "stdout",
     "output_type": "stream",
     "text": [
      "55\n"
     ]
    }
   ],
   "source": [
    "#sum of the first 10 natural numbers using for loop\n",
    "result = 0\n",
    "for i in range(11):\n",
    "    result = result + i\n",
    "print(result)\n",
    "\n"
   ]
  },
  {
   "cell_type": "code",
   "execution_count": 6,
   "id": "48895dce",
   "metadata": {},
   "outputs": [
    {
     "name": "stdout",
     "output_type": "stream",
     "text": [
      "3628800\n"
     ]
    }
   ],
   "source": [
    "#product of the first 10 natural numbers using for loop\n",
    "result = 1\n",
    "for i in range(1,11):\n",
    "    result = result * i\n",
    "print(result)\n"
   ]
  },
  {
   "cell_type": "code",
   "execution_count": 7,
   "id": "dd0b616a",
   "metadata": {},
   "outputs": [
    {
     "name": "stdout",
     "output_type": "stream",
     "text": [
      "55\n"
     ]
    }
   ],
   "source": [
    "#sum of the first 10 natural numbers using while loop\n",
    "i = 1\n",
    "result = 0\n",
    "while i < 11:\n",
    "    result = result + i\n",
    "    i = i+1\n",
    "print(result)\n"
   ]
  },
  {
   "cell_type": "code",
   "execution_count": 8,
   "id": "d0ef31bd",
   "metadata": {},
   "outputs": [
    {
     "name": "stdout",
     "output_type": "stream",
     "text": [
      "3628800\n"
     ]
    }
   ],
   "source": [
    "#product of the first 10 natural numbers using while loop\n",
    "i = 1\n",
    "result = 1\n",
    "while i < 11:\n",
    "    result = result * i\n",
    "    i = i+1\n",
    "print(result)\n"
   ]
  },
  {
   "cell_type": "markdown",
   "id": "2c645e84",
   "metadata": {},
   "source": [
    "Q3. Create a python program to compute the electricity bill for a household.\n",
    "The per-unit charges in rupees are as follows: For the first 100 units, the user will be charged Rs. 4.5 per\n",
    "unit, for the next 100 units, the user will be charged Rs. 6 per unit, and for the next 100 units, the user will\n",
    "be charged Rs. 10 per unit, After 300 units and above the user will be charged Rs. 20 per unit.\n",
    "You are required to take the units of electricity consumed in a month from the user as input.\n",
    "Your program must pass this test case: when the unit of electricity consumed by the user in a month is\n",
    "310, the total electricity bill should be 2250."
   ]
  },
  {
   "cell_type": "code",
   "execution_count": 9,
   "id": "a463273b",
   "metadata": {},
   "outputs": [
    {
     "name": "stdout",
     "output_type": "stream",
     "text": [
      "310\n",
      "2250\n"
     ]
    }
   ],
   "source": [
    "unt= int(input())\n",
    "bill = 0\n",
    "if unt <= 100:\n",
    "        bill = units * 4.5\n",
    "else:\n",
    "        bill += 100 * 4.5\n",
    "        unt -= 100\n",
    "\n",
    "        # Next 100 units\n",
    "        if unt <= 100:\n",
    "            bill += units * 6\n",
    "        else:\n",
    "            bill += 100 * 6\n",
    "            unt -= 100\n",
    "\n",
    "            # Next 100 units\n",
    "            if unt <= 100:\n",
    "                bill += units * 10\n",
    "            else:\n",
    "                bill += 100 * 10\n",
    "                unt -= 100\n",
    "\n",
    "                # Above 300 units\n",
    "                bill += unt * 20\n",
    "print(int(bill))\n"
   ]
  },
  {
   "cell_type": "markdown",
   "id": "dd29d362",
   "metadata": {},
   "source": [
    "Q4. Create a list of numbers from 1 to 100. Use for loop and while loop to calculate the cube of each\n",
    "number and if the cube of that number is divisible by 4 or 5 then append that number in a list and print\n",
    "that list."
   ]
  },
  {
   "cell_type": "code",
   "execution_count": 10,
   "id": "90e3d4a5",
   "metadata": {},
   "outputs": [
    {
     "name": "stdout",
     "output_type": "stream",
     "text": [
      "[8, 64, 125, 216, 512, 1000, 1728, 2744, 3375, 4096, 5832, 8000, 10648, 13824, 15625, 17576, 21952, 27000, 32768, 39304, 42875, 46656, 54872, 64000, 74088, 85184, 91125, 97336, 110592, 125000, 140608, 157464, 166375, 175616, 195112, 216000, 238328, 262144, 274625, 287496, 314432, 343000, 373248, 405224, 421875, 438976, 474552, 512000, 551368, 592704, 614125, 636056, 681472, 729000, 778688, 830584, 857375, 884736, 941192, 1000000]\n"
     ]
    }
   ],
   "source": [
    "# using for loop \n",
    "lst = []\n",
    "for i in range(1,101):\n",
    "    cube = i**3\n",
    "    if (cube %4) ==0 or (cube % 5)==0:\n",
    "        lst.append(cube)\n",
    "print(lst)"
   ]
  },
  {
   "cell_type": "code",
   "execution_count": 11,
   "id": "b2a3bc2d",
   "metadata": {},
   "outputs": [
    {
     "name": "stdout",
     "output_type": "stream",
     "text": [
      "[8, 64, 125, 216, 512, 1000, 1728, 2744, 3375, 4096, 5832, 8000, 10648, 13824, 15625, 17576, 21952, 27000, 32768, 39304, 42875, 46656, 54872, 64000, 74088, 85184, 91125, 97336, 110592, 125000, 140608, 157464, 166375, 175616, 195112, 216000, 238328, 262144, 274625, 287496, 314432, 343000, 373248, 405224, 421875, 438976, 474552, 512000, 551368, 592704, 614125, 636056, 681472, 729000, 778688, 830584, 857375, 884736, 941192, 1000000]\n"
     ]
    }
   ],
   "source": [
    "# using while loop\n",
    "i = 1\n",
    "lst = []\n",
    "while i<=100:\n",
    "    cube = i**3\n",
    "    if (cube %4) ==0 or (cube % 5)==0:\n",
    "        lst.append(cube)\n",
    "    i=i+1\n",
    "print(lst)"
   ]
  },
  {
   "cell_type": "markdown",
   "id": "0ba4ac61",
   "metadata": {},
   "source": [
    "Q5. Write a program to filter count vowels in the below-given string.\n",
    "string = \"I want to become a data scientist\"\n"
   ]
  },
  {
   "cell_type": "code",
   "execution_count": 12,
   "id": "921fd513",
   "metadata": {},
   "outputs": [
    {
     "name": "stdout",
     "output_type": "stream",
     "text": [
      "12\n"
     ]
    }
   ],
   "source": [
    "string = \"I want to become a data scientist\"\n",
    "new_str = string.lower()\n",
    "vow ='aeiou'\n",
    "count = 0\n",
    "for ch in new_str:\n",
    "    if ch in vow:\n",
    "        count = count + 1\n",
    "print(count)"
   ]
  },
  {
   "cell_type": "code",
   "execution_count": null,
   "id": "b7989386",
   "metadata": {},
   "outputs": [],
   "source": []
  }
 ],
 "metadata": {
  "kernelspec": {
   "display_name": "Python 3 (ipykernel)",
   "language": "python",
   "name": "python3"
  },
  "language_info": {
   "codemirror_mode": {
    "name": "ipython",
    "version": 3
   },
   "file_extension": ".py",
   "mimetype": "text/x-python",
   "name": "python",
   "nbconvert_exporter": "python",
   "pygments_lexer": "ipython3",
   "version": "3.9.13"
  }
 },
 "nbformat": 4,
 "nbformat_minor": 5
}
